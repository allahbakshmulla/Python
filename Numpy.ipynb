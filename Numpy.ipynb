{
 "cells": [
  {
   "cell_type": "code",
   "execution_count": 1,
   "id": "21686989-6f77-4dfc-be0a-18178a511d6f",
   "metadata": {},
   "outputs": [],
   "source": [
    "import numpy as np"
   ]
  },
  {
   "cell_type": "code",
   "execution_count": 2,
   "id": "106da62a-a3ff-4d8e-b111-c4908db54f80",
   "metadata": {},
   "outputs": [
    {
     "data": {
      "text/plain": [
       "array([ 0,  1,  2,  3,  4,  5,  6,  7,  8,  9, 10, 11, 12, 13, 14, 15, 16,\n",
       "       17, 18, 19, 20, 21, 22, 23, 24, 25, 26, 27, 28, 29, 30, 31, 32, 33,\n",
       "       34, 35, 36, 37, 38, 39, 40, 41, 42, 43, 44, 45, 46, 47, 48, 49, 50,\n",
       "       51, 52, 53, 54, 55, 56, 57, 58, 59, 60, 61, 62, 63, 64, 65, 66, 67,\n",
       "       68, 69, 70, 71, 72, 73, 74, 75, 76, 77, 78, 79, 80, 81, 82, 83, 84,\n",
       "       85, 86, 87, 88, 89, 90, 91, 92, 93, 94, 95, 96, 97, 98, 99])"
      ]
     },
     "execution_count": 2,
     "metadata": {},
     "output_type": "execute_result"
    }
   ],
   "source": [
    "np.arange(100)"
   ]
  },
  {
   "cell_type": "code",
   "execution_count": 3,
   "id": "174366e3-8f1f-4a4a-9fff-f4da997f57b7",
   "metadata": {},
   "outputs": [
    {
     "data": {
      "text/plain": [
       "array([10, 11, 12, 13, 14, 15, 16, 17, 18, 19, 20, 21, 22, 23, 24, 25, 26,\n",
       "       27, 28, 29, 30, 31, 32, 33, 34, 35, 36, 37, 38, 39, 40, 41, 42, 43,\n",
       "       44, 45, 46, 47, 48, 49, 50, 51, 52, 53, 54, 55, 56, 57, 58, 59, 60,\n",
       "       61, 62, 63, 64, 65, 66, 67, 68, 69, 70, 71, 72, 73, 74, 75, 76, 77,\n",
       "       78, 79, 80, 81, 82, 83, 84, 85, 86, 87, 88, 89, 90, 91, 92, 93, 94,\n",
       "       95, 96, 97, 98, 99])"
      ]
     },
     "execution_count": 3,
     "metadata": {},
     "output_type": "execute_result"
    }
   ],
   "source": [
    "np.arange(10,100)"
   ]
  },
  {
   "cell_type": "code",
   "execution_count": 4,
   "id": "3512d9b1-723e-4d19-8fa7-d746c4d1e1a5",
   "metadata": {},
   "outputs": [
    {
     "data": {
      "text/plain": [
       "array([ 0,  3,  6,  9, 12, 15, 18, 21, 24, 27, 30, 33, 36, 39, 42, 45, 48,\n",
       "       51, 54, 57, 60, 63, 66, 69, 72, 75, 78, 81, 84, 87, 90, 93, 96, 99])"
      ]
     },
     "execution_count": 4,
     "metadata": {},
     "output_type": "execute_result"
    }
   ],
   "source": [
    "np.arange(0,100,3)"
   ]
  },
  {
   "cell_type": "code",
   "execution_count": 6,
   "id": "cbfda4f3-5219-4c08-ad5c-1051e7644ceb",
   "metadata": {},
   "outputs": [
    {
     "data": {
      "text/plain": [
       "array([ 3,  6,  9, 12, 15, 18, 21])"
      ]
     },
     "execution_count": 6,
     "metadata": {},
     "output_type": "execute_result"
    }
   ],
   "source": [
    "np.arange(3,22,3)"
   ]
  },
  {
   "cell_type": "code",
   "execution_count": 7,
   "id": "7d5305dc-aa58-4bd7-9229-0b620fe2d2de",
   "metadata": {},
   "outputs": [
    {
     "data": {
      "text/plain": [
       "array([0., 0., 0., 0., 0., 0., 0., 0., 0., 0.])"
      ]
     },
     "execution_count": 7,
     "metadata": {},
     "output_type": "execute_result"
    }
   ],
   "source": [
    "np.zeros(10)"
   ]
  },
  {
   "cell_type": "code",
   "execution_count": 8,
   "id": "55bb4e36-23f7-4e67-b3e0-193d99fa7a1b",
   "metadata": {},
   "outputs": [
    {
     "data": {
      "text/plain": [
       "array([0, 0, 0, 0, 0, 0, 0, 0, 0, 0])"
      ]
     },
     "execution_count": 8,
     "metadata": {},
     "output_type": "execute_result"
    }
   ],
   "source": [
    "np.zeros(10,int)"
   ]
  },
  {
   "cell_type": "code",
   "execution_count": 9,
   "id": "a26c0e8e-1253-4738-8b4b-f756b8cd9e1c",
   "metadata": {
    "scrolled": true
   },
   "outputs": [
    {
     "data": {
      "text/plain": [
       "array([0, 0, 0, 0, 0, 0, 0, 0, 0, 0, 0, 0, 0, 0, 0, 0, 0, 0, 0, 0, 0, 0,\n",
       "       0, 0, 0, 0, 0, 0, 0, 0, 0, 0, 0, 0, 0, 0, 0, 0, 0, 0, 0, 0, 0, 0,\n",
       "       0, 0, 0, 0, 0, 0, 0, 0, 0, 0, 0, 0, 0, 0, 0, 0, 0, 0, 0, 0, 0, 0,\n",
       "       0, 0, 0, 0, 0, 0, 0, 0, 0, 0, 0, 0, 0, 0, 0, 0, 0, 0, 0, 0, 0, 0,\n",
       "       0, 0, 0, 0, 0, 0, 0, 0, 0, 0, 0, 0])"
      ]
     },
     "execution_count": 9,
     "metadata": {},
     "output_type": "execute_result"
    }
   ],
   "source": [
    "np.zeros(100,int)"
   ]
  },
  {
   "cell_type": "code",
   "execution_count": 10,
   "id": "7dc78b3c-608b-4fcd-88df-0e3c042b55c9",
   "metadata": {},
   "outputs": [
    {
     "data": {
      "text/plain": [
       "array([1., 1., 1., 1., 1., 1., 1., 1., 1., 1.])"
      ]
     },
     "execution_count": 10,
     "metadata": {},
     "output_type": "execute_result"
    }
   ],
   "source": [
    "np.ones(10)"
   ]
  },
  {
   "cell_type": "code",
   "execution_count": 13,
   "id": "2b89e428-cd64-4363-8891-9793c5f43b0d",
   "metadata": {},
   "outputs": [
    {
     "data": {
      "text/plain": [
       "array([0. , 0.5, 1. , 1.5, 2. ])"
      ]
     },
     "execution_count": 13,
     "metadata": {},
     "output_type": "execute_result"
    }
   ],
   "source": [
    "np.linspace(0,2,5) # divides the number in range 0 & 2 including 2 in 5 intervals"
   ]
  },
  {
   "cell_type": "code",
   "execution_count": 14,
   "id": "f24991b5-4396-47b5-9ade-bd9a97dbb00f",
   "metadata": {},
   "outputs": [
    {
     "data": {
      "text/plain": [
       "array([ 1.        ,  3.11111111,  5.22222222,  7.33333333,  9.44444444,\n",
       "       11.55555556, 13.66666667, 15.77777778, 17.88888889, 20.        ])"
      ]
     },
     "execution_count": 14,
     "metadata": {},
     "output_type": "execute_result"
    }
   ],
   "source": [
    "np.linspace(1,20,10)"
   ]
  },
  {
   "cell_type": "code",
   "execution_count": 15,
   "id": "1a748c21-87df-427c-a8d4-9395e3d044c8",
   "metadata": {},
   "outputs": [
    {
     "data": {
      "text/plain": [
       "array([[0.10716559, 0.30809596, 0.45163955, 0.92565834, 0.95180794],\n",
       "       [0.43677953, 0.91815394, 0.85026864, 0.13563015, 0.76999359],\n",
       "       [0.30085634, 0.63205553, 0.1713369 , 0.63227532, 0.08794005]])"
      ]
     },
     "execution_count": 15,
     "metadata": {},
     "output_type": "execute_result"
    }
   ],
   "source": [
    "np.random.rand(3,5)"
   ]
  },
  {
   "cell_type": "code",
   "execution_count": 16,
   "id": "99926856-8bb4-4385-8d72-8b9d8b9d0d3d",
   "metadata": {},
   "outputs": [
    {
     "data": {
      "text/plain": [
       "array([[0.70624391, 0.63284697, 0.65565461, 0.39446702, 0.02611798],\n",
       "       [0.38958525, 0.63079203, 0.13474151, 0.59574268, 0.04842488],\n",
       "       [0.24445306, 0.93101168, 0.16863523, 0.02137634, 0.53925941],\n",
       "       [0.59849804, 0.89390402, 0.24242258, 0.65427034, 0.05040243],\n",
       "       [0.06135024, 0.58641608, 0.88806375, 0.74157821, 0.90084356],\n",
       "       [0.77000036, 0.87702709, 0.11976166, 0.5016551 , 0.05865376],\n",
       "       [0.22611392, 0.52373973, 0.89081831, 0.29535767, 0.46048617],\n",
       "       [0.90594177, 0.21110072, 0.46083134, 0.50870186, 0.09578325],\n",
       "       [0.73811405, 0.01996614, 0.1116282 , 0.30108783, 0.20638259]])"
      ]
     },
     "execution_count": 16,
     "metadata": {},
     "output_type": "execute_result"
    }
   ],
   "source": [
    "np.random.rand(9,5)"
   ]
  },
  {
   "cell_type": "code",
   "execution_count": 27,
   "id": "0986653b-7c6e-4e6a-a0e7-317f642a7d2e",
   "metadata": {},
   "outputs": [
    {
     "data": {
      "text/plain": [
       "array([[-0.26210689, -0.49572721, -1.06962816,  0.52129658,  0.08799762],\n",
       "       [-0.94930797,  1.23576965,  0.22112296, -0.04490648, -0.47869814],\n",
       "       [ 0.81108044,  0.59116735, -0.01619262, -1.36844469, -1.3997595 ]])"
      ]
     },
     "execution_count": 27,
     "metadata": {},
     "output_type": "execute_result"
    }
   ],
   "source": [
    "np.random.randn(3,5)"
   ]
  },
  {
   "cell_type": "code",
   "execution_count": 32,
   "id": "6e49b505-5c90-4f44-9842-bb0c909b2393",
   "metadata": {},
   "outputs": [
    {
     "data": {
      "text/plain": [
       "array([43, 16, 45, 24, 29,  4, 37, 24, 37, 34, 30, 36,  5, 38, 41, 41, 42,\n",
       "       38, 35, 28])"
      ]
     },
     "execution_count": 32,
     "metadata": {},
     "output_type": "execute_result"
    }
   ],
   "source": [
    "np.random.randint(0,50,20)"
   ]
  },
  {
   "cell_type": "code",
   "execution_count": 33,
   "id": "2931f358-7cb6-4472-8bce-29a3eb333c6f",
   "metadata": {},
   "outputs": [],
   "source": [
    "sample_array=np.arange(0,30)"
   ]
  },
  {
   "cell_type": "code",
   "execution_count": 35,
   "id": "27093ee4-5b5a-4a83-9a23-46e4d82b98d1",
   "metadata": {},
   "outputs": [
    {
     "name": "stdout",
     "output_type": "stream",
     "text": [
      "[ 0  1  2  3  4  5  6  7  8  9 10 11 12 13 14 15 16 17 18 19 20 21 22 23\n",
      " 24 25 26 27 28 29]\n"
     ]
    }
   ],
   "source": [
    "print(sample_array)"
   ]
  },
  {
   "cell_type": "code",
   "execution_count": 42,
   "id": "38ca8f80-2e56-4888-a0e2-e340e7beb37e",
   "metadata": {},
   "outputs": [
    {
     "data": {
      "text/plain": [
       "array([[ 0,  1,  2],\n",
       "       [ 3,  4,  5],\n",
       "       [ 6,  7,  8],\n",
       "       [ 9, 10, 11],\n",
       "       [12, 13, 14],\n",
       "       [15, 16, 17],\n",
       "       [18, 19, 20],\n",
       "       [21, 22, 23],\n",
       "       [24, 25, 26],\n",
       "       [27, 28, 29]])"
      ]
     },
     "execution_count": 42,
     "metadata": {},
     "output_type": "execute_result"
    }
   ],
   "source": [
    "sample_array.reshape(10,3)"
   ]
  },
  {
   "cell_type": "code",
   "execution_count": 44,
   "id": "cb367940-c767-4103-a6ec-944037a7f363",
   "metadata": {},
   "outputs": [
    {
     "data": {
      "text/plain": [
       "array([[1, 2, 3],\n",
       "       [4, 5, 6],\n",
       "       [7, 8, 9]])"
      ]
     },
     "execution_count": 44,
     "metadata": {},
     "output_type": "execute_result"
    }
   ],
   "source": [
    "mat=np.array([[1,2,3],[4,5,6],[7,8,9]])\n",
    "mat"
   ]
  },
  {
   "cell_type": "code",
   "execution_count": 46,
   "id": "e61ea73a-8a21-4609-8b17-41fcede8698a",
   "metadata": {},
   "outputs": [
    {
     "data": {
      "text/plain": [
       "6"
      ]
     },
     "execution_count": 46,
     "metadata": {},
     "output_type": "execute_result"
    }
   ],
   "source": [
    "mat[1,2]"
   ]
  },
  {
   "cell_type": "code",
   "execution_count": 48,
   "id": "b78f2d8b-2d3d-4f95-a09f-eda11afb986f",
   "metadata": {},
   "outputs": [
    {
     "data": {
      "text/plain": [
       "9"
      ]
     },
     "execution_count": 48,
     "metadata": {},
     "output_type": "execute_result"
    }
   ],
   "source": [
    "mat[2,2]"
   ]
  },
  {
   "cell_type": "code",
   "execution_count": 49,
   "id": "dad3729d-1bd5-43a7-99ce-3b6bf93dd370",
   "metadata": {},
   "outputs": [
    {
     "data": {
      "text/plain": [
       "array([7, 8, 9])"
      ]
     },
     "execution_count": 49,
     "metadata": {},
     "output_type": "execute_result"
    }
   ],
   "source": [
    "mat[2,:]"
   ]
  },
  {
   "cell_type": "code",
   "execution_count": 52,
   "id": "ce7b1770-6e7b-4c43-9f6b-359a367e6024",
   "metadata": {},
   "outputs": [
    {
     "data": {
      "text/plain": [
       "array([[2, 3],\n",
       "       [5, 6],\n",
       "       [8, 9]])"
      ]
     },
     "execution_count": 52,
     "metadata": {},
     "output_type": "execute_result"
    }
   ],
   "source": [
    "mat[:,(1,2)]"
   ]
  },
  {
   "cell_type": "code",
   "execution_count": 54,
   "id": "19f9d72b-d542-40fb-9ac5-f272eb5cd9b4",
   "metadata": {},
   "outputs": [
    {
     "data": {
      "text/plain": [
       "array([ 0,  1,  2,  3,  4,  5,  6,  7,  8,  9, 10, 11, 12, 13, 14, 15, 16,\n",
       "       17, 18, 19, 20, 21, 22, 23, 24, 25, 26, 27, 28, 29])"
      ]
     },
     "execution_count": 54,
     "metadata": {},
     "output_type": "execute_result"
    }
   ],
   "source": [
    "sample_array"
   ]
  },
  {
   "cell_type": "code",
   "execution_count": 55,
   "id": "a008247c-d29b-431a-95de-5bae40af018f",
   "metadata": {},
   "outputs": [],
   "source": [
    "sample_array=sample_array.reshape(5,6)"
   ]
  },
  {
   "cell_type": "code",
   "execution_count": 57,
   "id": "c5d13118-9e45-437e-b0d2-c78bd2b8e09c",
   "metadata": {},
   "outputs": [
    {
     "data": {
      "text/plain": [
       "array([[ 0,  1,  2,  3,  4,  5],\n",
       "       [ 6,  7,  8,  9, 10, 11],\n",
       "       [12, 13, 14, 15, 16, 17],\n",
       "       [18, 19, 20, 21, 22, 23],\n",
       "       [24, 25, 26, 27, 28, 29]])"
      ]
     },
     "execution_count": 57,
     "metadata": {},
     "output_type": "execute_result"
    }
   ],
   "source": [
    "sample_array"
   ]
  },
  {
   "cell_type": "code",
   "execution_count": 58,
   "id": "93cd7dc2-2ca9-43ee-a3b4-a7bce82f8215",
   "metadata": {},
   "outputs": [
    {
     "data": {
      "text/plain": [
       "array([[ 2,  4,  6],\n",
       "       [ 8, 10, 12],\n",
       "       [14, 16, 18]])"
      ]
     },
     "execution_count": 58,
     "metadata": {},
     "output_type": "execute_result"
    }
   ],
   "source": [
    "mat+mat"
   ]
  },
  {
   "cell_type": "code",
   "execution_count": 60,
   "id": "805d4c2a-ce50-4c17-8250-a8076e6c89b3",
   "metadata": {},
   "outputs": [
    {
     "data": {
      "text/plain": [
       "29"
      ]
     },
     "execution_count": 60,
     "metadata": {},
     "output_type": "execute_result"
    }
   ],
   "source": [
    "np.max(sample_array)"
   ]
  },
  {
   "cell_type": "code",
   "execution_count": 61,
   "id": "33915442-c57d-42b6-a4cd-377ef12af335",
   "metadata": {},
   "outputs": [
    {
     "data": {
      "text/plain": [
       "0"
      ]
     },
     "execution_count": 61,
     "metadata": {},
     "output_type": "execute_result"
    }
   ],
   "source": [
    "np.min(sample_array)"
   ]
  },
  {
   "cell_type": "code",
   "execution_count": 62,
   "id": "de7d8a9d-033a-4e1b-ba76-379208d9063f",
   "metadata": {},
   "outputs": [
    {
     "data": {
      "text/plain": [
       "array([[0.        , 1.        , 1.41421356, 1.73205081, 2.        ,\n",
       "        2.23606798],\n",
       "       [2.44948974, 2.64575131, 2.82842712, 3.        , 3.16227766,\n",
       "        3.31662479],\n",
       "       [3.46410162, 3.60555128, 3.74165739, 3.87298335, 4.        ,\n",
       "        4.12310563],\n",
       "       [4.24264069, 4.35889894, 4.47213595, 4.58257569, 4.69041576,\n",
       "        4.79583152],\n",
       "       [4.89897949, 5.        , 5.09901951, 5.19615242, 5.29150262,\n",
       "        5.38516481]])"
      ]
     },
     "execution_count": 62,
     "metadata": {},
     "output_type": "execute_result"
    }
   ],
   "source": [
    "np.sqrt(sample_array)"
   ]
  },
  {
   "cell_type": "code",
   "execution_count": 64,
   "id": "9c85b632-4324-41b5-b2cf-60ef91d7c2fa",
   "metadata": {},
   "outputs": [
    {
     "name": "stderr",
     "output_type": "stream",
     "text": [
      "C:\\Users\\Allahbaksh Mulla\\AppData\\Local\\Temp\\ipykernel_8396\\988743405.py:1: RuntimeWarning: divide by zero encountered in log\n",
      "  np.log(sample_array)\n"
     ]
    },
    {
     "data": {
      "text/plain": [
       "array([[      -inf, 0.        , 0.69314718, 1.09861229, 1.38629436,\n",
       "        1.60943791],\n",
       "       [1.79175947, 1.94591015, 2.07944154, 2.19722458, 2.30258509,\n",
       "        2.39789527],\n",
       "       [2.48490665, 2.56494936, 2.63905733, 2.7080502 , 2.77258872,\n",
       "        2.83321334],\n",
       "       [2.89037176, 2.94443898, 2.99573227, 3.04452244, 3.09104245,\n",
       "        3.13549422],\n",
       "       [3.17805383, 3.21887582, 3.25809654, 3.29583687, 3.33220451,\n",
       "        3.36729583]])"
      ]
     },
     "execution_count": 64,
     "metadata": {},
     "output_type": "execute_result"
    }
   ],
   "source": [
    "np.log(sample_array)"
   ]
  },
  {
   "cell_type": "code",
   "execution_count": 65,
   "id": "ba3c728c-3d23-4fd0-bd49-49b6c3de0b18",
   "metadata": {},
   "outputs": [],
   "source": [
    "sample_array[0,0]=30"
   ]
  },
  {
   "cell_type": "code",
   "execution_count": 66,
   "id": "dc77b4ce-cf11-4962-bea8-79a51128bb1b",
   "metadata": {},
   "outputs": [
    {
     "data": {
      "text/plain": [
       "array([[30,  1,  2,  3,  4,  5],\n",
       "       [ 6,  7,  8,  9, 10, 11],\n",
       "       [12, 13, 14, 15, 16, 17],\n",
       "       [18, 19, 20, 21, 22, 23],\n",
       "       [24, 25, 26, 27, 28, 29]])"
      ]
     },
     "execution_count": 66,
     "metadata": {},
     "output_type": "execute_result"
    }
   ],
   "source": [
    "sample_array"
   ]
  },
  {
   "cell_type": "code",
   "execution_count": 67,
   "id": "c46cad1a-4caa-4cd7-a5bd-de0babf7734e",
   "metadata": {},
   "outputs": [
    {
     "data": {
      "text/plain": [
       "15.5"
      ]
     },
     "execution_count": 67,
     "metadata": {},
     "output_type": "execute_result"
    }
   ],
   "source": [
    "np.mean(sample_array)"
   ]
  },
  {
   "cell_type": "code",
   "execution_count": null,
   "id": "db8f37cb-8a10-4dec-9056-44b060b7138d",
   "metadata": {},
   "outputs": [],
   "source": []
  }
 ],
 "metadata": {
  "kernelspec": {
   "display_name": "Python 3 (ipykernel)",
   "language": "python",
   "name": "python3"
  },
  "language_info": {
   "codemirror_mode": {
    "name": "ipython",
    "version": 3
   },
   "file_extension": ".py",
   "mimetype": "text/x-python",
   "name": "python",
   "nbconvert_exporter": "python",
   "pygments_lexer": "ipython3",
   "version": "3.12.4"
  }
 },
 "nbformat": 4,
 "nbformat_minor": 5
}
