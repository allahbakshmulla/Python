{
 "cells": [
  {
   "cell_type": "code",
   "execution_count": 4,
   "id": "345f6182-6103-445c-9607-9e5af14f1742",
   "metadata": {},
   "outputs": [
    {
     "name": "stdin",
     "output_type": "stream",
     "text": [
      "Enter number:  -1\n"
     ]
    },
    {
     "name": "stdout",
     "output_type": "stream",
     "text": [
      "-1 is negative\n"
     ]
    }
   ],
   "source": [
    "n=int(input(\"Enter number: \"))\n",
    "if n>0:\n",
    "    print(n, \"is positive\")\n",
    "elif n==0:\n",
    "    print(n,\"is zero\")\n",
    "else:\n",
    "    print(n,\"is negative\")"
   ]
  },
  {
   "cell_type": "code",
   "execution_count": 9,
   "id": "5e041a4a-2d07-4348-880f-c0ae3fbc6722",
   "metadata": {},
   "outputs": [
    {
     "name": "stdin",
     "output_type": "stream",
     "text": [
      "Enter your age: 20\n"
     ]
    },
    {
     "name": "stdout",
     "output_type": "stream",
     "text": [
      "You are adult\n"
     ]
    }
   ],
   "source": [
    "age=int(input(\"Enter your age:\"))\n",
    "if age<18:\n",
    "    print(\"You are young.\")\n",
    "elif age>60:\n",
    "    print(\"You are senior citizen.\")\n",
    "else:\n",
    "    print(\"You are adult\")"
   ]
  },
  {
   "cell_type": "code",
   "execution_count": 27,
   "id": "b4ca383d-3ee5-4b73-b453-565ad2cfbbee",
   "metadata": {},
   "outputs": [
    {
     "name": "stdin",
     "output_type": "stream",
     "text": [
      "Enter your age: 60\n"
     ]
    },
    {
     "name": "stdout",
     "output_type": "stream",
     "text": [
      "Entry fee is 25.\n"
     ]
    }
   ],
   "source": [
    "age=int(input(\"Enter your age:\"))\n",
    "if age>5 and age<26:\n",
    "    print(\"Entry fee is 20.\")\n",
    "elif age>=26 and age<=60:\n",
    "    print(\"Entry fee is 25.\")\n",
    "else:\n",
    "    print(\"No entry fee.\")"
   ]
  },
  {
   "cell_type": "code",
   "execution_count": 29,
   "id": "5e0c9c58-4cca-4d7b-b11c-874a7442da8f",
   "metadata": {},
   "outputs": [
    {
     "name": "stdout",
     "output_type": "stream",
     "text": [
      "0\n",
      "1\n",
      "2\n",
      "3\n",
      "4\n",
      "5\n",
      "6\n",
      "7\n",
      "8\n",
      "9\n",
      "10\n",
      "11\n",
      "12\n",
      "13\n",
      "14\n",
      "15\n",
      "16\n",
      "17\n",
      "18\n",
      "19\n"
     ]
    }
   ],
   "source": [
    "for i in range(20):\n",
    "    print(i)"
   ]
  },
  {
   "cell_type": "code",
   "execution_count": 30,
   "id": "a9903f05-949a-4702-8942-dc52b2f8e902",
   "metadata": {},
   "outputs": [
    {
     "name": "stdout",
     "output_type": "stream",
     "text": [
      "h\n",
      "e\n",
      "l\n",
      "l\n",
      "o\n",
      ",\n",
      " \n",
      "w\n",
      "o\n",
      "r\n",
      "l\n",
      "d\n",
      "!\n"
     ]
    }
   ],
   "source": [
    "a=\"hello, world!\"\n",
    "for i in a:\n",
    "    print(i)\n",
    "    "
   ]
  },
  {
   "cell_type": "code",
   "execution_count": 31,
   "id": "1a7c5591-4d86-48d8-bc2c-ce320aa488ea",
   "metadata": {},
   "outputs": [
    {
     "name": "stdout",
     "output_type": "stream",
     "text": [
      "0\n",
      "1\n",
      "2\n",
      "3\n",
      "4\n",
      "5\n",
      "6\n",
      "7\n",
      "8\n"
     ]
    }
   ],
   "source": [
    "i=0\n",
    "while(i!=9):\n",
    "    print(i)\n",
    "    i+=1"
   ]
  },
  {
   "cell_type": "code",
   "execution_count": 32,
   "id": "65bae67c-3469-4f0b-95d8-60a3d6fb8f2b",
   "metadata": {},
   "outputs": [
    {
     "name": "stdout",
     "output_type": "stream",
     "text": [
      "A\n",
      "l\n",
      "l\n",
      "a\n",
      "h\n",
      "b\n",
      "a\n",
      "k\n",
      "s\n",
      "h\n"
     ]
    }
   ],
   "source": [
    "name=\"Allahbaksh\"\n",
    "i=0\n",
    "while(i!=len(name)):\n",
    "    print(name[i])\n",
    "    i+=1"
   ]
  },
  {
   "cell_type": "code",
   "execution_count": 37,
   "id": "a3222299-d622-4ae9-bc27-3d7a26c9df84",
   "metadata": {},
   "outputs": [
    {
     "name": "stdout",
     "output_type": "stream",
     "text": [
      "75.0\n"
     ]
    }
   ],
   "source": [
    "def area_of_triangle(l,b):\n",
    "    return 0.5*l*b\n",
    "print(area_of_triangle(15,10))"
   ]
  },
  {
   "cell_type": "code",
   "execution_count": 39,
   "id": "17c266f3-bf97-467d-b627-6005d5ef97c9",
   "metadata": {},
   "outputs": [
    {
     "name": "stdout",
     "output_type": "stream",
     "text": [
      "314.0\n"
     ]
    }
   ],
   "source": [
    "def area_of_circle(r):\n",
    "    return 3.14*r*r\n",
    "print(area_of_circle(10))"
   ]
  },
  {
   "cell_type": "code",
   "execution_count": null,
   "id": "a2265717-dde3-4d42-8f2f-baaaddbfe473",
   "metadata": {},
   "outputs": [],
   "source": [
    "https://github.com/Premalatha-success/Datasets/blob/main/World%20Happiness%20Report.csv"
   ]
  }
 ],
 "metadata": {
  "kernelspec": {
   "display_name": "Python 3 (ipykernel)",
   "language": "python",
   "name": "python3"
  },
  "language_info": {
   "codemirror_mode": {
    "name": "ipython",
    "version": 3
   },
   "file_extension": ".py",
   "mimetype": "text/x-python",
   "name": "python",
   "nbconvert_exporter": "python",
   "pygments_lexer": "ipython3",
   "version": "3.12.4"
  }
 },
 "nbformat": 4,
 "nbformat_minor": 5
}
