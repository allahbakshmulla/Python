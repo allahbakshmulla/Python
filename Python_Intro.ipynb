{
 "cells": [
  {
   "cell_type": "code",
   "execution_count": 1,
   "id": "baaf6e46-6e31-4e49-ac20-df3431298799",
   "metadata": {},
   "outputs": [
    {
     "name": "stdout",
     "output_type": "stream",
     "text": [
      "Hello World\n"
     ]
    }
   ],
   "source": [
    "print(\"Hello World\")"
   ]
  },
  {
   "cell_type": "code",
   "execution_count": 2,
   "id": "869ba0c8-c5cf-4014-b35a-4bb9f6f697eb",
   "metadata": {},
   "outputs": [
    {
     "name": "stdout",
     "output_type": "stream",
     "text": [
      "Allahbaksh\n"
     ]
    }
   ],
   "source": [
    "print(\"Allahbaksh\")"
   ]
  },
  {
   "cell_type": "code",
   "execution_count": 3,
   "id": "17ab2bad-72f1-4884-b680-8ad1e7ae61b8",
   "metadata": {},
   "outputs": [
    {
     "name": "stdout",
     "output_type": "stream",
     "text": [
      "10\n"
     ]
    }
   ],
   "source": [
    "print(10)"
   ]
  },
  {
   "cell_type": "code",
   "execution_count": 4,
   "id": "a9438d93-d0e7-4367-be5b-8a62c8cd1d7c",
   "metadata": {},
   "outputs": [
    {
     "name": "stdout",
     "output_type": "stream",
     "text": [
      "1.5\n"
     ]
    }
   ],
   "source": [
    "print(1.5)"
   ]
  },
  {
   "cell_type": "code",
   "execution_count": 5,
   "id": "ddfd3157-b0f5-4f90-842b-7b0694360326",
   "metadata": {},
   "outputs": [
    {
     "data": {
      "text/plain": [
       "10"
      ]
     },
     "execution_count": 5,
     "metadata": {},
     "output_type": "execute_result"
    }
   ],
   "source": [
    "x=10\n",
    "x"
   ]
  },
  {
   "cell_type": "code",
   "execution_count": 6,
   "id": "8577e13e-f3e8-4059-9f29-8e26ec7d6206",
   "metadata": {},
   "outputs": [
    {
     "data": {
      "text/plain": [
       "int"
      ]
     },
     "execution_count": 6,
     "metadata": {},
     "output_type": "execute_result"
    }
   ],
   "source": [
    "type(x)"
   ]
  },
  {
   "cell_type": "code",
   "execution_count": 7,
   "id": "c358562e-5102-49f8-8ab5-c13be6824cd1",
   "metadata": {},
   "outputs": [
    {
     "data": {
      "text/plain": [
       "float"
      ]
     },
     "execution_count": 7,
     "metadata": {},
     "output_type": "execute_result"
    }
   ],
   "source": [
    "x=12.5\n",
    "type(x)"
   ]
  },
  {
   "cell_type": "code",
   "execution_count": 8,
   "id": "d30d021f-80e3-4351-b20a-61c658e1931d",
   "metadata": {},
   "outputs": [
    {
     "data": {
      "text/plain": [
       "str"
      ]
     },
     "execution_count": 8,
     "metadata": {},
     "output_type": "execute_result"
    }
   ],
   "source": [
    "name=\"Huzaifa\"\n",
    "type(name)"
   ]
  },
  {
   "cell_type": "code",
   "execution_count": 10,
   "id": "c5952c64-35b0-428a-9e4f-f9b414126ead",
   "metadata": {},
   "outputs": [
    {
     "data": {
      "text/plain": [
       "bool"
      ]
     },
     "execution_count": 10,
     "metadata": {},
     "output_type": "execute_result"
    }
   ],
   "source": [
    "b=True\n",
    "type(b)"
   ]
  },
  {
   "cell_type": "code",
   "execution_count": 11,
   "id": "d606d21e-3798-4161-9daa-f8b0f9df9aaa",
   "metadata": {},
   "outputs": [
    {
     "data": {
      "text/plain": [
       "['A', 'B', 'C', 'D']"
      ]
     },
     "execution_count": 11,
     "metadata": {},
     "output_type": "execute_result"
    }
   ],
   "source": [
    "# variables\n",
    "booknames=[\"A\",\"B\",\"C\",\"D\"]\n",
    "booknames"
   ]
  },
  {
   "cell_type": "markdown",
   "id": "72820525-bc49-4a26-937e-c3c65456fb04",
   "metadata": {},
   "source": [
    "##### Variable names should start with A-Z or a-z or _\n",
    "##### Space is not allowed\n",
    "##### it should not start with a number\n",
    "##### The only allowed spl char is underscore"
   ]
  },
  {
   "cell_type": "markdown",
   "id": "ffb52ac7-5b45-4734-8ce9-85e66cd33c76",
   "metadata": {
    "jp-MarkdownHeadingCollapsed": true
   },
   "source": [
    "### Data Stuctures"
   ]
  },
  {
   "cell_type": "markdown",
   "id": "2f1e8cd7-32a6-4efa-9606-ee41fcba965f",
   "metadata": {},
   "source": [
    "#### List"
   ]
  },
  {
   "cell_type": "code",
   "execution_count": 12,
   "id": "8b5f2858-ecf2-4739-8fbe-abf7b4fbfb0c",
   "metadata": {},
   "outputs": [
    {
     "data": {
      "text/plain": [
       "[1, 2, 3, 4, 5, 'Python', True, 10.5, 21.3]"
      ]
     },
     "execution_count": 12,
     "metadata": {},
     "output_type": "execute_result"
    }
   ],
   "source": [
    "a=[1,2,3,4,5,\"Python\",True,10.5,21.3]\n",
    "a"
   ]
  },
  {
   "cell_type": "code",
   "execution_count": 13,
   "id": "a34250e9-4130-4c8b-84c3-90bd6afa86a1",
   "metadata": {},
   "outputs": [
    {
     "data": {
      "text/plain": [
       "list"
      ]
     },
     "execution_count": 13,
     "metadata": {},
     "output_type": "execute_result"
    }
   ],
   "source": [
    "type(a)"
   ]
  },
  {
   "cell_type": "code",
   "execution_count": 14,
   "id": "50e68d88-eea5-4b58-8554-1959f82b2893",
   "metadata": {},
   "outputs": [
    {
     "data": {
      "text/plain": [
       "1"
      ]
     },
     "execution_count": 14,
     "metadata": {},
     "output_type": "execute_result"
    }
   ],
   "source": [
    "a[0]   ### [0]->indexing"
   ]
  },
  {
   "cell_type": "code",
   "execution_count": 15,
   "id": "51c12160-494c-4098-b5b7-cccc7b65e738",
   "metadata": {},
   "outputs": [
    {
     "data": {
      "text/plain": [
       "5"
      ]
     },
     "execution_count": 15,
     "metadata": {},
     "output_type": "execute_result"
    }
   ],
   "source": [
    "a[4]"
   ]
  },
  {
   "cell_type": "code",
   "execution_count": 16,
   "id": "8ef40f8f-36a0-4752-a0dc-26750f2c42e3",
   "metadata": {},
   "outputs": [
    {
     "data": {
      "text/plain": [
       "21.3"
      ]
     },
     "execution_count": 16,
     "metadata": {},
     "output_type": "execute_result"
    }
   ],
   "source": [
    "a[8]"
   ]
  },
  {
   "cell_type": "code",
   "execution_count": 17,
   "id": "c49aec2d-a59f-4710-9aa4-6c6472cc8b2f",
   "metadata": {},
   "outputs": [
    {
     "data": {
      "text/plain": [
       "21.3"
      ]
     },
     "execution_count": 17,
     "metadata": {},
     "output_type": "execute_result"
    }
   ],
   "source": [
    "a[-1]"
   ]
  },
  {
   "cell_type": "code",
   "execution_count": 18,
   "id": "b5393322-b465-4c2d-871b-a35008271686",
   "metadata": {},
   "outputs": [
    {
     "data": {
      "text/plain": [
       "[1, 2]"
      ]
     },
     "execution_count": 18,
     "metadata": {},
     "output_type": "execute_result"
    }
   ],
   "source": [
    "a[0:2]  ##[0:2]->slicing"
   ]
  },
  {
   "cell_type": "code",
   "execution_count": 19,
   "id": "1f4e974d-176e-4d16-a029-5b1cad99f9cf",
   "metadata": {},
   "outputs": [
    {
     "data": {
      "text/plain": [
       "['Python', True, 10.5]"
      ]
     },
     "execution_count": 19,
     "metadata": {},
     "output_type": "execute_result"
    }
   ],
   "source": [
    "a[5:8]"
   ]
  },
  {
   "cell_type": "code",
   "execution_count": 20,
   "id": "d416df3d-3043-43fe-bb57-3302a9758c73",
   "metadata": {},
   "outputs": [],
   "source": [
    "a[0]=100"
   ]
  },
  {
   "cell_type": "code",
   "execution_count": 21,
   "id": "c61283fd-c409-4745-b3ec-a73b9bc11232",
   "metadata": {},
   "outputs": [
    {
     "data": {
      "text/plain": [
       "[100, 2, 3, 4, 5, 'Python', True, 10.5, 21.3]"
      ]
     },
     "execution_count": 21,
     "metadata": {},
     "output_type": "execute_result"
    }
   ],
   "source": [
    "a"
   ]
  },
  {
   "cell_type": "markdown",
   "id": "7072f9e2-3536-458b-9290-7a5324678c8e",
   "metadata": {},
   "source": [
    "### List has elements seperated by commas\n",
    "### Heterogenous->different data types like int,float,bool and string\n",
    "### Square brackets\n",
    "### The element can be retrieved using index\n",
    "### Mutable->once the list is created we can change the elements"
   ]
  },
  {
   "cell_type": "code",
   "execution_count": 22,
   "id": "0f9c92c3-2df1-4793-9b15-1c9991d6815f",
   "metadata": {},
   "outputs": [
    {
     "data": {
      "text/plain": [
       "(1, 2, 3, 4, 5, 'Python', True, 10.5, 21.3)"
      ]
     },
     "execution_count": 22,
     "metadata": {},
     "output_type": "execute_result"
    }
   ],
   "source": [
    "a=(1,2,3,4,5,\"Python\",True,10.5,21.3)\n",
    "a"
   ]
  },
  {
   "cell_type": "code",
   "execution_count": 23,
   "id": "ec76f387-68ef-4477-93ab-53d30be8a704",
   "metadata": {},
   "outputs": [
    {
     "data": {
      "text/plain": [
       "tuple"
      ]
     },
     "execution_count": 23,
     "metadata": {},
     "output_type": "execute_result"
    }
   ],
   "source": [
    "type(a)"
   ]
  },
  {
   "cell_type": "code",
   "execution_count": 24,
   "id": "a03905ac-b366-49be-9dc0-236cf8c6dde5",
   "metadata": {},
   "outputs": [
    {
     "data": {
      "text/plain": [
       "1"
      ]
     },
     "execution_count": 24,
     "metadata": {},
     "output_type": "execute_result"
    }
   ],
   "source": [
    "a[0]"
   ]
  },
  {
   "cell_type": "code",
   "execution_count": 25,
   "id": "42de62a9-de79-4bb4-a28a-7032d94f3980",
   "metadata": {},
   "outputs": [
    {
     "data": {
      "text/plain": [
       "(1, 2, 3, 4, 5, 'Python')"
      ]
     },
     "execution_count": 25,
     "metadata": {},
     "output_type": "execute_result"
    }
   ],
   "source": [
    "a[0:6]"
   ]
  },
  {
   "cell_type": "markdown",
   "id": "2e497674-8f52-4ba7-8e46-0fbe510b632f",
   "metadata": {},
   "source": [
    "#### In tuple,the elements are seperated by comma and it is enclosed with ()\n",
    "#### Elements can be retrieved using index\n",
    "#### Immutable->once the tuple is created we cannot change the elements"
   ]
  },
  {
   "cell_type": "markdown",
   "id": "4fcc31fc-4fd5-431c-ad94-d65a307e4a13",
   "metadata": {},
   "source": [
    "### Dictionary"
   ]
  },
  {
   "cell_type": "code",
   "execution_count": 26,
   "id": "69a0d9e7-1527-45e4-baa2-34dcf42cfa87",
   "metadata": {},
   "outputs": [
    {
     "data": {
      "text/plain": [
       "{1: 'apple', 2: 'Python', 'oranges': 3, 'apple': 7}"
      ]
     },
     "execution_count": 26,
     "metadata": {},
     "output_type": "execute_result"
    }
   ],
   "source": [
    "b={1:\"apple\",2:\"banana\",\"oranges\":3,2:\"latha\",\"apple\":7,2:\"Python\"}\n",
    "b"
   ]
  },
  {
   "cell_type": "code",
   "execution_count": 27,
   "id": "2ec4e980-b247-4966-9c61-0d3bceb64293",
   "metadata": {},
   "outputs": [
    {
     "data": {
      "text/plain": [
       "{1: 'apple', 2: 'latha', 'oranges': 3, 'apple': 7, 6: 'apple'}"
      ]
     },
     "execution_count": 27,
     "metadata": {},
     "output_type": "execute_result"
    }
   ],
   "source": [
    "c={1:\"apple\",2:\"banana\",\"oranges\":3,2:\"latha\",\"apple\":7,6:\"apple\"}\n",
    "c"
   ]
  },
  {
   "cell_type": "code",
   "execution_count": 28,
   "id": "99c98d07-9be1-4b63-90fd-a6d7d72c0a3c",
   "metadata": {},
   "outputs": [
    {
     "data": {
      "text/plain": [
       "'Python'"
      ]
     },
     "execution_count": 28,
     "metadata": {},
     "output_type": "execute_result"
    }
   ],
   "source": [
    "b[2]"
   ]
  },
  {
   "cell_type": "code",
   "execution_count": 29,
   "id": "4a3174ad-eff9-49d6-a2f9-38857ef00187",
   "metadata": {},
   "outputs": [
    {
     "data": {
      "text/plain": [
       "'apple'"
      ]
     },
     "execution_count": 29,
     "metadata": {},
     "output_type": "execute_result"
    }
   ],
   "source": [
    "c[6]"
   ]
  },
  {
   "cell_type": "code",
   "execution_count": 30,
   "id": "fc808dd4-f002-4801-ba65-ef029e3249e9",
   "metadata": {},
   "outputs": [
    {
     "data": {
      "text/plain": [
       "'\\nDictionary appear as Key and value pairs\\nBefore : are keys and after : are values\\nKey is unique but values can be duplicated\\nValues can be retrieved using Key\\n'"
      ]
     },
     "execution_count": 30,
     "metadata": {},
     "output_type": "execute_result"
    }
   ],
   "source": [
    "'''\n",
    "Dictionary appear as Key and value pairs\n",
    "Before : are keys and after : are values\n",
    "Key is unique but values can be duplicated\n",
    "Values can be retrieved using Key\n",
    "'''"
   ]
  }
 ],
 "metadata": {
  "kernelspec": {
   "display_name": "Python 3 (ipykernel)",
   "language": "python",
   "name": "python3"
  },
  "language_info": {
   "codemirror_mode": {
    "name": "ipython",
    "version": 3
   },
   "file_extension": ".py",
   "mimetype": "text/x-python",
   "name": "python",
   "nbconvert_exporter": "python",
   "pygments_lexer": "ipython3",
   "version": "3.12.4"
  }
 },
 "nbformat": 4,
 "nbformat_minor": 5
}
